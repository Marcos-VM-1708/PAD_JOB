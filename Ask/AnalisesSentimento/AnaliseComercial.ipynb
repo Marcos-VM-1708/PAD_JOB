{
 "cells": [
  {
   "cell_type": "code",
   "execution_count": 6,
   "metadata": {},
   "outputs": [
    {
     "data": {
      "text/html": [
       "<div>\n",
       "<style scoped>\n",
       "    .dataframe tbody tr th:only-of-type {\n",
       "        vertical-align: middle;\n",
       "    }\n",
       "\n",
       "    .dataframe tbody tr th {\n",
       "        vertical-align: top;\n",
       "    }\n",
       "\n",
       "    .dataframe thead th {\n",
       "        text-align: right;\n",
       "    }\n",
       "</style>\n",
       "<table border=\"1\" class=\"dataframe\">\n",
       "  <thead>\n",
       "    <tr style=\"text-align: right;\">\n",
       "      <th></th>\n",
       "      <th>title</th>\n",
       "      <th>text</th>\n",
       "      <th>sentiment</th>\n",
       "      <th>stars</th>\n",
       "      <th>likesCount</th>\n",
       "      <th>reviewerPhotoUrl</th>\n",
       "      <th>publishedAtDate</th>\n",
       "      <th>name</th>\n",
       "      <th>predictions</th>\n",
       "    </tr>\n",
       "  </thead>\n",
       "  <tbody>\n",
       "    <tr>\n",
       "      <th>0</th>\n",
       "      <td>BOB'S</td>\n",
       "      <td>Shake e Sunday aguados. Horrível. Não recomendo.</td>\n",
       "      <td>negative</td>\n",
       "      <td>1</td>\n",
       "      <td>1</td>\n",
       "      <td>https://lh3.googleusercontent.com/a-/AD_cMMRso...</td>\n",
       "      <td>2021-04-03 20:10:01.702000+00:00</td>\n",
       "      <td>Sílvio Brito</td>\n",
       "      <td>negative</td>\n",
       "    </tr>\n",
       "    <tr>\n",
       "      <th>1</th>\n",
       "      <td>BOB'S</td>\n",
       "      <td>Credo!</td>\n",
       "      <td>negative</td>\n",
       "      <td>1</td>\n",
       "      <td>0</td>\n",
       "      <td>https://lh3.googleusercontent.com/a-/AD_cMMS7i...</td>\n",
       "      <td>2019-05-25 21:11:05.280000+00:00</td>\n",
       "      <td>Tiago de Bem</td>\n",
       "      <td>negative</td>\n",
       "    </tr>\n",
       "    <tr>\n",
       "      <th>2</th>\n",
       "      <td>BOB'S</td>\n",
       "      <td>Desorganizado, pedido veio errado</td>\n",
       "      <td>negative</td>\n",
       "      <td>1</td>\n",
       "      <td>0</td>\n",
       "      <td>https://lh3.googleusercontent.com/a-/AD_cMMQP2...</td>\n",
       "      <td>2020-02-15 23:29:17.166000+00:00</td>\n",
       "      <td>paulo aecio alves</td>\n",
       "      <td>negative</td>\n",
       "    </tr>\n",
       "    <tr>\n",
       "      <th>3</th>\n",
       "      <td>BOB'S</td>\n",
       "      <td>Atendimento péssimo</td>\n",
       "      <td>negative</td>\n",
       "      <td>1</td>\n",
       "      <td>0</td>\n",
       "      <td>https://lh3.googleusercontent.com/a-/AD_cMMSwu...</td>\n",
       "      <td>2018-10-18 10:25:35.416000+00:00</td>\n",
       "      <td>Eryka Ferreira Menezes de Paula</td>\n",
       "      <td>negative</td>\n",
       "    </tr>\n",
       "    <tr>\n",
       "      <th>4</th>\n",
       "      <td>BOB'S</td>\n",
       "      <td>Todos atendentes de mal humor e sem educação, ...</td>\n",
       "      <td>negative</td>\n",
       "      <td>1</td>\n",
       "      <td>2</td>\n",
       "      <td>https://lh3.googleusercontent.com/a-/AD_cMMS_z...</td>\n",
       "      <td>2022-01-15 18:37:15.511000+00:00</td>\n",
       "      <td>João Benuto</td>\n",
       "      <td>negative</td>\n",
       "    </tr>\n",
       "  </tbody>\n",
       "</table>\n",
       "</div>"
      ],
      "text/plain": [
       "   title                                               text sentiment  stars  \\\n",
       "0  BOB'S   Shake e Sunday aguados. Horrível. Não recomendo.  negative      1   \n",
       "1  BOB'S                                             Credo!  negative      1   \n",
       "2  BOB'S                  Desorganizado, pedido veio errado  negative      1   \n",
       "3  BOB'S                                Atendimento péssimo  negative      1   \n",
       "4  BOB'S  Todos atendentes de mal humor e sem educação, ...  negative      1   \n",
       "\n",
       "   likesCount                                   reviewerPhotoUrl  \\\n",
       "0           1  https://lh3.googleusercontent.com/a-/AD_cMMRso...   \n",
       "1           0  https://lh3.googleusercontent.com/a-/AD_cMMS7i...   \n",
       "2           0  https://lh3.googleusercontent.com/a-/AD_cMMQP2...   \n",
       "3           0  https://lh3.googleusercontent.com/a-/AD_cMMSwu...   \n",
       "4           2  https://lh3.googleusercontent.com/a-/AD_cMMS_z...   \n",
       "\n",
       "                    publishedAtDate                             name  \\\n",
       "0  2021-04-03 20:10:01.702000+00:00                     Sílvio Brito   \n",
       "1  2019-05-25 21:11:05.280000+00:00                     Tiago de Bem   \n",
       "2  2020-02-15 23:29:17.166000+00:00                paulo aecio alves   \n",
       "3  2018-10-18 10:25:35.416000+00:00  Eryka Ferreira Menezes de Paula   \n",
       "4  2022-01-15 18:37:15.511000+00:00                      João Benuto   \n",
       "\n",
       "  predictions  \n",
       "0    negative  \n",
       "1    negative  \n",
       "2    negative  \n",
       "3    negative  \n",
       "4    negative  "
      ]
     },
     "execution_count": 6,
     "metadata": {},
     "output_type": "execute_result"
    }
   ],
   "source": [
    "import pandas as pd\n",
    "\n",
    "file_path = 'C:/Users/moura/PAD_JOB/data_extracted/New-dataset-SVCpredictions.csv'\n",
    "dataset = pd.read_csv(file_path)\n",
    "\n",
    "\n",
    "dataset.head()"
   ]
  },
  {
   "cell_type": "code",
   "execution_count": 7,
   "metadata": {},
   "outputs": [
    {
     "data": {
      "text/plain": [
       "'Desorganizado, pedido veio errado'"
      ]
     },
     "execution_count": 7,
     "metadata": {},
     "output_type": "execute_result"
    }
   ],
   "source": [
    "dataset.iloc[2].at['text']"
   ]
  },
  {
   "cell_type": "code",
   "execution_count": 8,
   "metadata": {},
   "outputs": [
    {
     "name": "stdout",
     "output_type": "stream",
     "text": [
      "<class 'pandas.core.frame.DataFrame'>\n",
      "RangeIndex: 89212 entries, 0 to 89211\n",
      "Data columns (total 9 columns):\n",
      " #   Column            Non-Null Count  Dtype \n",
      "---  ------            --------------  ----- \n",
      " 0   title             89212 non-null  object\n",
      " 1   text              89212 non-null  object\n",
      " 2   sentiment         89212 non-null  object\n",
      " 3   stars             89212 non-null  int64 \n",
      " 4   likesCount        89212 non-null  int64 \n",
      " 5   reviewerPhotoUrl  89212 non-null  object\n",
      " 6   publishedAtDate   89212 non-null  object\n",
      " 7   name              89212 non-null  object\n",
      " 8   predictions       89212 non-null  object\n",
      "dtypes: int64(2), object(7)\n",
      "memory usage: 6.1+ MB\n"
     ]
    }
   ],
   "source": [
    "dataset.info()"
   ]
  },
  {
   "cell_type": "code",
   "execution_count": 10,
   "metadata": {},
   "outputs": [],
   "source": [
    "import pandas as pd\n",
    "\n",
    "def map_sentiment(totalScore):\n",
    "    if totalScore <= 2:\n",
    "        return \"negativo\"\n",
    "    elif totalScore == 3:\n",
    "        return \"neutro\"\n",
    "    else:\n",
    "        return \"positivo\"\n",
    "    \n",
    "sentiment = dataset['totalScore'].apply(map_sentiment)\n",
    "\n",
    "\n",
    "dataset = pd.DataFrame({\n",
    "    'title' : dataset['title'],\n",
    "    'categoryName': dataset['categoryName'],\n",
    "    'postalCode' : dataset['postalCode'],\n",
    "    'address' : dataset['address'],\n",
    "    'reviews': dataset['reviews'],  \n",
    "    'SENTIMENTO': sentiment,\n",
    "    'totalScore': dataset['totalScore'],\n",
    "    'texto': dataset['texto']\n",
    "    #'TextBlob': dataset['TextBlob'],    \n",
    "    #'texto_traduzido': dataset['texto_traduzido']\n",
    "})\n",
    "\n"
   ]
  },
  {
   "cell_type": "markdown",
   "metadata": {},
   "source": [
    "Análise de Sentimentos por Comércio\n"
   ]
  },
  {
   "cell_type": "code",
   "execution_count": 19,
   "metadata": {},
   "outputs": [
    {
     "name": "stdout",
     "output_type": "stream",
     "text": [
      "                                                 title  count_titulos  \\\n",
      "0                          20 Buscar Bar e Restaurante            184   \n",
      "1    597 Burger (Hambúrguer, Batata frita, Cerveja)...            407   \n",
      "2                                          6 Pira Açai             10   \n",
      "3                         A GRANDE FAMÍLIA RESTAURANTE             22   \n",
      "4                           ABSOLUTO BAR & RESTAURANTE            253   \n",
      "..                                                 ...            ...   \n",
      "843                                       brasa burg's              7   \n",
      "844                                      buchecha burg              1   \n",
      "845                     restaurante Caseiro casa de vó              7   \n",
      "846                         tioBák - Passeio das Àguas            106   \n",
      "847                               top grill costelaria              8   \n",
      "\n",
      "     sum_estrelas  \n",
      "0             677  \n",
      "1            1807  \n",
      "2              49  \n",
      "3             101  \n",
      "4            1224  \n",
      "..            ...  \n",
      "843            30  \n",
      "844             5  \n",
      "845            35  \n",
      "846           411  \n",
      "847            39  \n",
      "\n",
      "[848 rows x 3 columns]\n"
     ]
    }
   ],
   "source": [
    "grouped = dataset.groupby('title').agg(\n",
    "    #contando quantas vezes title ocorreu\n",
    "    count_titulos=('title', 'count'),\n",
    "    #soma das estrelas\n",
    "    sum_estrelas=('stars', 'sum')\n",
    ").reset_index()\n",
    "print(grouped)\n",
    "\n",
    "\n"
   ]
  },
  {
   "cell_type": "code",
   "execution_count": 21,
   "metadata": {},
   "outputs": [
    {
     "ename": "KeyError",
     "evalue": "'titulos'",
     "output_type": "error",
     "traceback": [
      "\u001b[1;31m---------------------------------------------------------------------------\u001b[0m",
      "\u001b[1;31mKeyError\u001b[0m                                  Traceback (most recent call last)",
      "Cell \u001b[1;32mIn[21], line 1\u001b[0m\n\u001b[1;32m----> 1\u001b[0m grouped \u001b[39m=\u001b[39m dataset\u001b[39m.\u001b[39;49mgroupby(\u001b[39m'\u001b[39;49m\u001b[39mtitulos\u001b[39;49m\u001b[39m'\u001b[39;49m)\u001b[39m.\u001b[39magg(\n\u001b[0;32m      2\u001b[0m     count_titulos\u001b[39m=\u001b[39m(\u001b[39m'\u001b[39m\u001b[39mtitulos\u001b[39m\u001b[39m'\u001b[39m, \u001b[39m'\u001b[39m\u001b[39mcount\u001b[39m\u001b[39m'\u001b[39m),\n\u001b[0;32m      3\u001b[0m     sum_estrelas\u001b[39m=\u001b[39m(\u001b[39m'\u001b[39m\u001b[39mestrelas\u001b[39m\u001b[39m'\u001b[39m, \u001b[39m'\u001b[39m\u001b[39msum\u001b[39m\u001b[39m'\u001b[39m)\n\u001b[0;32m      4\u001b[0m )\u001b[39m.\u001b[39mreset_index()\n\u001b[0;32m      6\u001b[0m grouped[\u001b[39m'\u001b[39m\u001b[39mmedia_estrelas\u001b[39m\u001b[39m'\u001b[39m] \u001b[39m=\u001b[39m grouped[\u001b[39m'\u001b[39m\u001b[39msum_estrelas\u001b[39m\u001b[39m'\u001b[39m] \u001b[39m/\u001b[39m grouped[\u001b[39m'\u001b[39m\u001b[39mcount_titulos\u001b[39m\u001b[39m'\u001b[39m]\n",
      "File \u001b[1;32mc:\\Users\\moura\\Anaconda3\\envs\\PAD\\lib\\site-packages\\pandas\\core\\frame.py:8402\u001b[0m, in \u001b[0;36mDataFrame.groupby\u001b[1;34m(self, by, axis, level, as_index, sort, group_keys, squeeze, observed, dropna)\u001b[0m\n\u001b[0;32m   8399\u001b[0m     \u001b[39mraise\u001b[39;00m \u001b[39mTypeError\u001b[39;00m(\u001b[39m\"\u001b[39m\u001b[39mYou have to supply one of \u001b[39m\u001b[39m'\u001b[39m\u001b[39mby\u001b[39m\u001b[39m'\u001b[39m\u001b[39m and \u001b[39m\u001b[39m'\u001b[39m\u001b[39mlevel\u001b[39m\u001b[39m'\u001b[39m\u001b[39m\"\u001b[39m)\n\u001b[0;32m   8400\u001b[0m axis \u001b[39m=\u001b[39m \u001b[39mself\u001b[39m\u001b[39m.\u001b[39m_get_axis_number(axis)\n\u001b[1;32m-> 8402\u001b[0m \u001b[39mreturn\u001b[39;00m DataFrameGroupBy(\n\u001b[0;32m   8403\u001b[0m     obj\u001b[39m=\u001b[39;49m\u001b[39mself\u001b[39;49m,\n\u001b[0;32m   8404\u001b[0m     keys\u001b[39m=\u001b[39;49mby,\n\u001b[0;32m   8405\u001b[0m     axis\u001b[39m=\u001b[39;49maxis,\n\u001b[0;32m   8406\u001b[0m     level\u001b[39m=\u001b[39;49mlevel,\n\u001b[0;32m   8407\u001b[0m     as_index\u001b[39m=\u001b[39;49mas_index,\n\u001b[0;32m   8408\u001b[0m     sort\u001b[39m=\u001b[39;49msort,\n\u001b[0;32m   8409\u001b[0m     group_keys\u001b[39m=\u001b[39;49mgroup_keys,\n\u001b[0;32m   8410\u001b[0m     squeeze\u001b[39m=\u001b[39;49msqueeze,\n\u001b[0;32m   8411\u001b[0m     observed\u001b[39m=\u001b[39;49mobserved,\n\u001b[0;32m   8412\u001b[0m     dropna\u001b[39m=\u001b[39;49mdropna,\n\u001b[0;32m   8413\u001b[0m )\n",
      "File \u001b[1;32mc:\\Users\\moura\\Anaconda3\\envs\\PAD\\lib\\site-packages\\pandas\\core\\groupby\\groupby.py:965\u001b[0m, in \u001b[0;36mGroupBy.__init__\u001b[1;34m(self, obj, keys, axis, level, grouper, exclusions, selection, as_index, sort, group_keys, squeeze, observed, mutated, dropna)\u001b[0m\n\u001b[0;32m    962\u001b[0m \u001b[39mif\u001b[39;00m grouper \u001b[39mis\u001b[39;00m \u001b[39mNone\u001b[39;00m:\n\u001b[0;32m    963\u001b[0m     \u001b[39mfrom\u001b[39;00m \u001b[39mpandas\u001b[39;00m\u001b[39m.\u001b[39;00m\u001b[39mcore\u001b[39;00m\u001b[39m.\u001b[39;00m\u001b[39mgroupby\u001b[39;00m\u001b[39m.\u001b[39;00m\u001b[39mgrouper\u001b[39;00m \u001b[39mimport\u001b[39;00m get_grouper\n\u001b[1;32m--> 965\u001b[0m     grouper, exclusions, obj \u001b[39m=\u001b[39m get_grouper(\n\u001b[0;32m    966\u001b[0m         obj,\n\u001b[0;32m    967\u001b[0m         keys,\n\u001b[0;32m    968\u001b[0m         axis\u001b[39m=\u001b[39;49maxis,\n\u001b[0;32m    969\u001b[0m         level\u001b[39m=\u001b[39;49mlevel,\n\u001b[0;32m    970\u001b[0m         sort\u001b[39m=\u001b[39;49msort,\n\u001b[0;32m    971\u001b[0m         observed\u001b[39m=\u001b[39;49mobserved,\n\u001b[0;32m    972\u001b[0m         mutated\u001b[39m=\u001b[39;49m\u001b[39mself\u001b[39;49m\u001b[39m.\u001b[39;49mmutated,\n\u001b[0;32m    973\u001b[0m         dropna\u001b[39m=\u001b[39;49m\u001b[39mself\u001b[39;49m\u001b[39m.\u001b[39;49mdropna,\n\u001b[0;32m    974\u001b[0m     )\n\u001b[0;32m    976\u001b[0m \u001b[39mself\u001b[39m\u001b[39m.\u001b[39mobj \u001b[39m=\u001b[39m obj\n\u001b[0;32m    977\u001b[0m \u001b[39mself\u001b[39m\u001b[39m.\u001b[39maxis \u001b[39m=\u001b[39m obj\u001b[39m.\u001b[39m_get_axis_number(axis)\n",
      "File \u001b[1;32mc:\\Users\\moura\\Anaconda3\\envs\\PAD\\lib\\site-packages\\pandas\\core\\groupby\\grouper.py:888\u001b[0m, in \u001b[0;36mget_grouper\u001b[1;34m(obj, key, axis, level, sort, observed, mutated, validate, dropna)\u001b[0m\n\u001b[0;32m    886\u001b[0m         in_axis, level, gpr \u001b[39m=\u001b[39m \u001b[39mFalse\u001b[39;00m, gpr, \u001b[39mNone\u001b[39;00m\n\u001b[0;32m    887\u001b[0m     \u001b[39melse\u001b[39;00m:\n\u001b[1;32m--> 888\u001b[0m         \u001b[39mraise\u001b[39;00m \u001b[39mKeyError\u001b[39;00m(gpr)\n\u001b[0;32m    889\u001b[0m \u001b[39melif\u001b[39;00m \u001b[39misinstance\u001b[39m(gpr, Grouper) \u001b[39mand\u001b[39;00m gpr\u001b[39m.\u001b[39mkey \u001b[39mis\u001b[39;00m \u001b[39mnot\u001b[39;00m \u001b[39mNone\u001b[39;00m:\n\u001b[0;32m    890\u001b[0m     \u001b[39m# Add key to exclusions\u001b[39;00m\n\u001b[0;32m    891\u001b[0m     exclusions\u001b[39m.\u001b[39madd(gpr\u001b[39m.\u001b[39mkey)\n",
      "\u001b[1;31mKeyError\u001b[0m: 'titulos'"
     ]
    }
   ],
   "source": [
    "grouped = dataset.groupby('titulos').agg(\n",
    "    count_titulos=('titulos', 'count'),\n",
    "    sum_estrelas=('stars', 'sum')\n",
    ").reset_index()\n",
    "\n",
    "grouped['media_estrelas'] = grouped['stars'] / grouped['count_titulos']\n"
   ]
  },
  {
   "cell_type": "code",
   "execution_count": 24,
   "metadata": {},
   "outputs": [
    {
     "data": {
      "text/html": [
       "<div>\n",
       "<style scoped>\n",
       "    .dataframe tbody tr th:only-of-type {\n",
       "        vertical-align: middle;\n",
       "    }\n",
       "\n",
       "    .dataframe tbody tr th {\n",
       "        vertical-align: top;\n",
       "    }\n",
       "\n",
       "    .dataframe thead th {\n",
       "        text-align: right;\n",
       "    }\n",
       "</style>\n",
       "<table border=\"1\" class=\"dataframe\">\n",
       "  <thead>\n",
       "    <tr style=\"text-align: right;\">\n",
       "      <th></th>\n",
       "      <th>stars</th>\n",
       "    </tr>\n",
       "    <tr>\n",
       "      <th>title</th>\n",
       "      <th></th>\n",
       "    </tr>\n",
       "  </thead>\n",
       "  <tbody>\n",
       "    <tr>\n",
       "      <th>NA CHAPA QUENTE</th>\n",
       "      <td>5.0</td>\n",
       "    </tr>\n",
       "    <tr>\n",
       "      <th>Restaurante bar do Léo</th>\n",
       "      <td>5.0</td>\n",
       "    </tr>\n",
       "    <tr>\n",
       "      <th>Chicão - Rei Do Frango Assado (Goiânia)</th>\n",
       "      <td>5.0</td>\n",
       "    </tr>\n",
       "    <tr>\n",
       "      <th>Restaurante e Empório Zion</th>\n",
       "      <td>5.0</td>\n",
       "    </tr>\n",
       "    <tr>\n",
       "      <th>Chopp Da Dona Ana</th>\n",
       "      <td>5.0</td>\n",
       "    </tr>\n",
       "    <tr>\n",
       "      <th>Restaurante Chickeria Frango Mais</th>\n",
       "      <td>5.0</td>\n",
       "    </tr>\n",
       "    <tr>\n",
       "      <th>Restaurante doce Pimenta</th>\n",
       "      <td>5.0</td>\n",
       "    </tr>\n",
       "    <tr>\n",
       "      <th>Junior's Hamburgueria</th>\n",
       "      <td>5.0</td>\n",
       "    </tr>\n",
       "    <tr>\n",
       "      <th>Jantinha Águia</th>\n",
       "      <td>5.0</td>\n",
       "    </tr>\n",
       "    <tr>\n",
       "      <th>Restaurante Coimbra</th>\n",
       "      <td>5.0</td>\n",
       "    </tr>\n",
       "  </tbody>\n",
       "</table>\n",
       "</div>"
      ],
      "text/plain": [
       "                                         stars\n",
       "title                                         \n",
       "NA CHAPA QUENTE                            5.0\n",
       "Restaurante bar do Léo                     5.0\n",
       "Chicão - Rei Do Frango Assado (Goiânia)    5.0\n",
       "Restaurante e Empório Zion                 5.0\n",
       "Chopp Da Dona Ana                          5.0\n",
       "Restaurante Chickeria Frango Mais          5.0\n",
       "Restaurante doce Pimenta                   5.0\n",
       "Junior's Hamburgueria                      5.0\n",
       "Jantinha Águia                             5.0\n",
       "Restaurante Coimbra                        5.0"
      ]
     },
     "execution_count": 24,
     "metadata": {},
     "output_type": "execute_result"
    }
   ],
   "source": [
    "#fazern uma restrição para pegar apenas mais de 10 avaliações\n",
    "analise_comercio = dataset.groupby('title')[['stars']].mean()\n",
    "\n",
    "# Ordenando os comércios pela média da avaliação\n",
    "analise_comercio.sort_values('stars', ascending=False).head(10)\n"
   ]
  },
  {
   "cell_type": "code",
   "execution_count": 12,
   "metadata": {},
   "outputs": [],
   "source": [
    "# Agrupando o dataset por comércio e calculando a média da avaliação\n",
    "analise_comercio_avaliacao = dataset.groupby('title')['stars'].mean().reset_index()\n",
    "\n",
    "# Ordenando os comércios pela média da avaliação\n",
    "top_comercios = analise_comercio_avaliacao.sort_values('stars', ascending=False).head(5)\n",
    "bottom_comercios = analise_comercio_avaliacao.sort_values('stars').head(5)\n",
    "\n",
    "#top_comercios, bottom_comercios\n"
   ]
  },
  {
   "cell_type": "code",
   "execution_count": 13,
   "metadata": {},
   "outputs": [
    {
     "name": "stdout",
     "output_type": "stream",
     "text": [
      "                                       title  stars\n",
      "371                          NA CHAPA QUENTE    5.0\n",
      "673                   Restaurante bar do Léo    5.0\n",
      "134  Chicão - Rei Do Frango Assado (Goiânia)    5.0\n",
      "698               Restaurante e Empório Zion    5.0\n",
      "136                        Chopp Da Dona Ana    5.0\n"
     ]
    }
   ],
   "source": [
    "print(top_comercios)"
   ]
  },
  {
   "cell_type": "code",
   "execution_count": 14,
   "metadata": {},
   "outputs": [
    {
     "name": "stdout",
     "output_type": "stream",
     "text": [
      "                            title  stars\n",
      "373         Na Brasa Hamburgueria    1.0\n",
      "660     Restaurante Tepero de Mãe    1.0\n",
      "177            Dias frango Assado    1.0\n",
      "672           Restaurante avenida    1.0\n",
      "467  Quiosque Bob's Cidade Jardim    1.0\n"
     ]
    }
   ],
   "source": [
    "print(bottom_comercios)"
   ]
  },
  {
   "cell_type": "code",
   "execution_count": 21,
   "metadata": {},
   "outputs": [
    {
     "name": "stdout",
     "output_type": "stream",
     "text": [
      "                                    texto  totalScore\n",
      "32  A melhor boate da região.super indico         5.0\n",
      "33       Super indico em qualquer ocasião         5.0\n",
      "32  A melhor boate da região.super indico         5.0\n",
      "32  A melhor boate da região.super indico         5.0\n",
      "32  A melhor boate da região.super indico         5.0\n"
     ]
    }
   ],
   "source": [
    "# Selecionando comentários para o comércio com a maior avaliação média\n",
    "comercio_maior_avaliacao = top_comercios.iloc[0]['categoryName']\n",
    "\n",
    "comentarios_maior_avaliacao = dataset[dataset['categoryName'] == comercio_maior_avaliacao][['texto', 'totalScore']]\n",
    "\n",
    "\n",
    "\n",
    "sample = comentarios_maior_avaliacao.sample(5, replace=True)\n",
    "print(sample)"
   ]
  }
 ],
 "metadata": {
  "kernelspec": {
   "display_name": "Python 3",
   "language": "python",
   "name": "python3"
  },
  "language_info": {
   "codemirror_mode": {
    "name": "ipython",
    "version": 3
   },
   "file_extension": ".py",
   "mimetype": "text/x-python",
   "name": "python",
   "nbconvert_exporter": "python",
   "pygments_lexer": "ipython3",
   "version": "3.9.17"
  },
  "orig_nbformat": 4
 },
 "nbformat": 4,
 "nbformat_minor": 2
}
