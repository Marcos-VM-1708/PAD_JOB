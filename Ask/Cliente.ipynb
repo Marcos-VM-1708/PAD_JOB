{
 "cells": [
  {
   "cell_type": "code",
   "execution_count": 1,
   "metadata": {},
   "outputs": [
    {
     "data": {
      "text/html": [
       "<div>\n",
       "<style scoped>\n",
       "    .dataframe tbody tr th:only-of-type {\n",
       "        vertical-align: middle;\n",
       "    }\n",
       "\n",
       "    .dataframe tbody tr th {\n",
       "        vertical-align: top;\n",
       "    }\n",
       "\n",
       "    .dataframe thead th {\n",
       "        text-align: right;\n",
       "    }\n",
       "</style>\n",
       "<table border=\"1\" class=\"dataframe\">\n",
       "  <thead>\n",
       "    <tr style=\"text-align: right;\">\n",
       "      <th></th>\n",
       "      <th>title</th>\n",
       "      <th>text</th>\n",
       "      <th>sentiment</th>\n",
       "      <th>stars</th>\n",
       "      <th>likesCount</th>\n",
       "      <th>reviewerPhotoUrl</th>\n",
       "      <th>publishedAtDate</th>\n",
       "      <th>name</th>\n",
       "      <th>predictions</th>\n",
       "    </tr>\n",
       "  </thead>\n",
       "  <tbody>\n",
       "    <tr>\n",
       "      <th>0</th>\n",
       "      <td>BOB'S</td>\n",
       "      <td>Shake e Sunday aguados. Horrível. Não recomendo.</td>\n",
       "      <td>negative</td>\n",
       "      <td>1</td>\n",
       "      <td>1</td>\n",
       "      <td>https://lh3.googleusercontent.com/a-/AD_cMMRso...</td>\n",
       "      <td>2021-04-03 20:10:01.702000+00:00</td>\n",
       "      <td>Sílvio Brito</td>\n",
       "      <td>negative</td>\n",
       "    </tr>\n",
       "    <tr>\n",
       "      <th>1</th>\n",
       "      <td>BOB'S</td>\n",
       "      <td>Credo!</td>\n",
       "      <td>negative</td>\n",
       "      <td>1</td>\n",
       "      <td>0</td>\n",
       "      <td>https://lh3.googleusercontent.com/a-/AD_cMMS7i...</td>\n",
       "      <td>2019-05-25 21:11:05.280000+00:00</td>\n",
       "      <td>Tiago de Bem</td>\n",
       "      <td>negative</td>\n",
       "    </tr>\n",
       "    <tr>\n",
       "      <th>2</th>\n",
       "      <td>BOB'S</td>\n",
       "      <td>Desorganizado, pedido veio errado</td>\n",
       "      <td>negative</td>\n",
       "      <td>1</td>\n",
       "      <td>0</td>\n",
       "      <td>https://lh3.googleusercontent.com/a-/AD_cMMQP2...</td>\n",
       "      <td>2020-02-15 23:29:17.166000+00:00</td>\n",
       "      <td>paulo aecio alves</td>\n",
       "      <td>negative</td>\n",
       "    </tr>\n",
       "    <tr>\n",
       "      <th>3</th>\n",
       "      <td>BOB'S</td>\n",
       "      <td>Atendimento péssimo</td>\n",
       "      <td>negative</td>\n",
       "      <td>1</td>\n",
       "      <td>0</td>\n",
       "      <td>https://lh3.googleusercontent.com/a-/AD_cMMSwu...</td>\n",
       "      <td>2018-10-18 10:25:35.416000+00:00</td>\n",
       "      <td>Eryka Ferreira Menezes de Paula</td>\n",
       "      <td>negative</td>\n",
       "    </tr>\n",
       "    <tr>\n",
       "      <th>4</th>\n",
       "      <td>BOB'S</td>\n",
       "      <td>Todos atendentes de mal humor e sem educação, ...</td>\n",
       "      <td>negative</td>\n",
       "      <td>1</td>\n",
       "      <td>2</td>\n",
       "      <td>https://lh3.googleusercontent.com/a-/AD_cMMS_z...</td>\n",
       "      <td>2022-01-15 18:37:15.511000+00:00</td>\n",
       "      <td>João Benuto</td>\n",
       "      <td>negative</td>\n",
       "    </tr>\n",
       "  </tbody>\n",
       "</table>\n",
       "</div>"
      ],
      "text/plain": [
       "   title                                               text sentiment  stars  \\\n",
       "0  BOB'S   Shake e Sunday aguados. Horrível. Não recomendo.  negative      1   \n",
       "1  BOB'S                                             Credo!  negative      1   \n",
       "2  BOB'S                  Desorganizado, pedido veio errado  negative      1   \n",
       "3  BOB'S                                Atendimento péssimo  negative      1   \n",
       "4  BOB'S  Todos atendentes de mal humor e sem educação, ...  negative      1   \n",
       "\n",
       "   likesCount                                   reviewerPhotoUrl  \\\n",
       "0           1  https://lh3.googleusercontent.com/a-/AD_cMMRso...   \n",
       "1           0  https://lh3.googleusercontent.com/a-/AD_cMMS7i...   \n",
       "2           0  https://lh3.googleusercontent.com/a-/AD_cMMQP2...   \n",
       "3           0  https://lh3.googleusercontent.com/a-/AD_cMMSwu...   \n",
       "4           2  https://lh3.googleusercontent.com/a-/AD_cMMS_z...   \n",
       "\n",
       "                    publishedAtDate                             name  \\\n",
       "0  2021-04-03 20:10:01.702000+00:00                     Sílvio Brito   \n",
       "1  2019-05-25 21:11:05.280000+00:00                     Tiago de Bem   \n",
       "2  2020-02-15 23:29:17.166000+00:00                paulo aecio alves   \n",
       "3  2018-10-18 10:25:35.416000+00:00  Eryka Ferreira Menezes de Paula   \n",
       "4  2022-01-15 18:37:15.511000+00:00                      João Benuto   \n",
       "\n",
       "  predictions  \n",
       "0    negative  \n",
       "1    negative  \n",
       "2    negative  \n",
       "3    negative  \n",
       "4    negative  "
      ]
     },
     "execution_count": 1,
     "metadata": {},
     "output_type": "execute_result"
    }
   ],
   "source": [
    "import pandas as pd\n",
    "\n",
    "file_path = 'C:/Users/moura/PAD_JOB/data_extracted/New-dataset-SVCpredictions.csv'\n",
    "data = pd.read_csv(file_path)\n",
    "\n",
    "\n",
    "data.head()"
   ]
  },
  {
   "cell_type": "code",
   "execution_count": 7,
   "metadata": {},
   "outputs": [],
   "source": [
    "from sklearn.feature_extraction.text import CountVectorizer\n",
    "\n",
    "def get_top_ngrams(corpus, n=2, top_n=10):\n",
    "    vec = CountVectorizer(ngram_range=(n, n)).fit(corpus)\n",
    "    bag_of_words = vec.transform(corpus)\n",
    "    sum_words = bag_of_words.sum(axis=0)\n",
    "    words_freq = [(word, sum_words[0, idx]) for word, idx in vec.vocabulary_.items()]\n",
    "    words_freq = sorted(words_freq, key=lambda x: x[1], reverse=True)\n",
    "    return words_freq[:top_n]\n"
   ]
  },
  {
   "cell_type": "code",
   "execution_count": 8,
   "metadata": {},
   "outputs": [],
   "source": [
    "# Filtrando as avaliações negativas\n",
    "negative_reviews = data[data['predictions'] == 'negative']['text']\n"
   ]
  },
  {
   "cell_type": "code",
   "execution_count": 9,
   "metadata": {},
   "outputs": [
    {
     "name": "stdout",
     "output_type": "stream",
     "text": [
      "Bigramas mais comuns: [('muito bom', 1025), ('comida boa', 890), ('um pouco', 830), ('que não', 750), ('muito boa', 744), ('não tem', 696), ('péssimo atendimento', 594), ('mais de', 541), ('não recomendo', 523), ('comida muito', 423)]\n",
      "Trigramas mais comuns: [('comida muito boa', 262), ('comida boa mas', 215), ('já foi melhor', 204), ('carne de sol', 162), ('falta de respeito', 142), ('fiz um pedido', 129), ('não volto mais', 127), ('mais ou menos', 107), ('na hora de', 100), ('atendimento deixa desejar', 97)]\n"
     ]
    }
   ],
   "source": [
    "# Obtendo os top 10 bigramas mais comuns nas avaliações negativas\n",
    "top_negative_bigrams = get_top_ngrams(negative_reviews, n=2, top_n=10)\n",
    "\n",
    "# Obtendo os top 10 trigramas mais comuns nas avaliações negativas\n",
    "top_negative_trigrams = get_top_ngrams(negative_reviews, n=3, top_n=10)\n",
    "\n",
    "print(\"Bigramas mais comuns:\", top_negative_bigrams)\n",
    "print(\"Trigramas mais comuns:\", top_negative_trigrams)\n"
   ]
  },
  {
   "cell_type": "markdown",
   "metadata": {},
   "source": [
    "Estabelecimento especifico"
   ]
  },
  {
   "cell_type": "code",
   "execution_count": 10,
   "metadata": {},
   "outputs": [],
   "source": [
    "from sklearn.feature_extraction.text import CountVectorizer\n",
    "\n",
    "def get_top_ngrams(corpus, n=2, top_n=10):\n",
    "    vec = CountVectorizer(ngram_range=(n, n)).fit(corpus)\n",
    "    bag_of_words = vec.transform(corpus)\n",
    "    sum_words = bag_of_words.sum(axis=0)\n",
    "    words_freq = [(word, sum_words[0, idx]) for word, idx in vec.vocabulary_.items()]\n",
    "    words_freq = sorted(words_freq, key=lambda x: x[1], reverse=True)\n",
    "    return words_freq[:top_n]\n"
   ]
  },
  {
   "cell_type": "code",
   "execution_count": 13,
   "metadata": {},
   "outputs": [],
   "source": [
    "# Nome do estabelecimento que você deseja analisar\n",
    "#selected_title = 'JB Restaurante'\n",
    "selected_title = 'Júnior Cozinha Brasileira'\n",
    "\n",
    "# Filtrando as avaliações negativas para o estabelecimento selecionado\n",
    "negative_reviews = data[(data['predictions'] == 'negative') & (data['title'] == selected_title)]['text']\n"
   ]
  },
  {
   "cell_type": "code",
   "execution_count": 14,
   "metadata": {},
   "outputs": [
    {
     "name": "stdout",
     "output_type": "stream",
     "text": [
      "Bigramas mais comuns: [('muito cheio', 60), ('comida boa', 43), ('muito bom', 37), ('um pouco', 32), ('não tem', 27), ('comida muito', 27), ('muito boa', 27), ('fila para', 22), ('muito caro', 21), ('de comida', 20)]\n",
      "Trigramas mais comuns: [('comida muito boa', 21), ('comida boa mas', 11), ('muito bom mas', 10), ('na hora de', 8), ('qualidade da comida', 8), ('mas muito cheio', 8), ('todos os gostos', 8), ('preço um pouco', 8), ('para se servir', 7), ('comida boa porém', 7)]\n"
     ]
    }
   ],
   "source": [
    "# Obtendo os top 10 bigramas mais comuns nas avaliações negativas\n",
    "top_negative_bigrams = get_top_ngrams(negative_reviews, n=2, top_n=10)\n",
    "\n",
    "# Obtendo os top 10 trigramas mais comuns nas avaliações negativas\n",
    "top_negative_trigrams = get_top_ngrams(negative_reviews, n=3, top_n=10)\n",
    "\n",
    "print(\"Bigramas mais comuns:\", top_negative_bigrams)\n",
    "print(\"Trigramas mais comuns:\", top_negative_trigrams)\n"
   ]
  }
 ],
 "metadata": {
  "kernelspec": {
   "display_name": "PAD",
   "language": "python",
   "name": "python3"
  },
  "language_info": {
   "codemirror_mode": {
    "name": "ipython",
    "version": 3
   },
   "file_extension": ".py",
   "mimetype": "text/x-python",
   "name": "python",
   "nbconvert_exporter": "python",
   "pygments_lexer": "ipython3",
   "version": "3.9.17"
  },
  "orig_nbformat": 4
 },
 "nbformat": 4,
 "nbformat_minor": 2
}
