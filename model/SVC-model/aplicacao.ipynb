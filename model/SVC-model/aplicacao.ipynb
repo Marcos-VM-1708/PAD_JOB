{
 "cells": [
  {
   "cell_type": "code",
   "execution_count": 1,
   "metadata": {},
   "outputs": [
    {
     "data": {
      "text/html": [
       "<div>\n",
       "<style scoped>\n",
       "    .dataframe tbody tr th:only-of-type {\n",
       "        vertical-align: middle;\n",
       "    }\n",
       "\n",
       "    .dataframe tbody tr th {\n",
       "        vertical-align: top;\n",
       "    }\n",
       "\n",
       "    .dataframe thead th {\n",
       "        text-align: right;\n",
       "    }\n",
       "</style>\n",
       "<table border=\"1\" class=\"dataframe\">\n",
       "  <thead>\n",
       "    <tr style=\"text-align: right;\">\n",
       "      <th></th>\n",
       "      <th>texto</th>\n",
       "      <th>texto_traduzido</th>\n",
       "    </tr>\n",
       "  </thead>\n",
       "  <tbody>\n",
       "    <tr>\n",
       "      <th>0</th>\n",
       "      <td>Top demais</td>\n",
       "      <td>Too top</td>\n",
       "    </tr>\n",
       "    <tr>\n",
       "      <th>1</th>\n",
       "      <td>Minha experiência no bar cruzeiro foi incrível...</td>\n",
       "      <td>My experience at Bar Cruzeiro was amazing, the...</td>\n",
       "    </tr>\n",
       "    <tr>\n",
       "      <th>2</th>\n",
       "      <td>Minha experiência foi com o caldo. Uma delícia...</td>\n",
       "      <td>My experience was with the broth. A delight, v...</td>\n",
       "    </tr>\n",
       "    <tr>\n",
       "      <th>3</th>\n",
       "      <td>Ambiente aberto, passam bicicletas e pedestres...</td>\n",
       "      <td>Open environment, bicycles and pedestrians bet...</td>\n",
       "    </tr>\n",
       "    <tr>\n",
       "      <th>4</th>\n",
       "      <td>O frango assado, o feijão tropeiro o melhor ai...</td>\n",
       "      <td>The roasted chicken, the tropeiro beans the be...</td>\n",
       "    </tr>\n",
       "    <tr>\n",
       "      <th>...</th>\n",
       "      <td>...</td>\n",
       "      <td>...</td>\n",
       "    </tr>\n",
       "    <tr>\n",
       "      <th>6860</th>\n",
       "      <td>tudo de bom, o meu escritorio</td>\n",
       "      <td>All the best, my office</td>\n",
       "    </tr>\n",
       "    <tr>\n",
       "      <th>6861</th>\n",
       "      <td>Atendimento Top</td>\n",
       "      <td>Top service</td>\n",
       "    </tr>\n",
       "    <tr>\n",
       "      <th>6862</th>\n",
       "      <td>Atendimento péssimo</td>\n",
       "      <td>Bad service</td>\n",
       "    </tr>\n",
       "    <tr>\n",
       "      <th>6863</th>\n",
       "      <td>Bom atendimento</td>\n",
       "      <td>Good service</td>\n",
       "    </tr>\n",
       "    <tr>\n",
       "      <th>6864</th>\n",
       "      <td>Great</td>\n",
       "      <td>Great</td>\n",
       "    </tr>\n",
       "  </tbody>\n",
       "</table>\n",
       "<p>6865 rows × 2 columns</p>\n",
       "</div>"
      ],
      "text/plain": [
       "                                                  texto  \\\n",
       "0                                            Top demais   \n",
       "1     Minha experiência no bar cruzeiro foi incrível...   \n",
       "2     Minha experiência foi com o caldo. Uma delícia...   \n",
       "3     Ambiente aberto, passam bicicletas e pedestres...   \n",
       "4     O frango assado, o feijão tropeiro o melhor ai...   \n",
       "...                                                 ...   \n",
       "6860                      tudo de bom, o meu escritorio   \n",
       "6861                                    Atendimento Top   \n",
       "6862                                Atendimento péssimo   \n",
       "6863                                    Bom atendimento   \n",
       "6864                                              Great   \n",
       "\n",
       "                                        texto_traduzido  \n",
       "0                                               Too top  \n",
       "1     My experience at Bar Cruzeiro was amazing, the...  \n",
       "2     My experience was with the broth. A delight, v...  \n",
       "3     Open environment, bicycles and pedestrians bet...  \n",
       "4     The roasted chicken, the tropeiro beans the be...  \n",
       "...                                                 ...  \n",
       "6860                            All the best, my office  \n",
       "6861                                        Top service  \n",
       "6862                                        Bad service  \n",
       "6863                                       Good service  \n",
       "6864                                              Great  \n",
       "\n",
       "[6865 rows x 2 columns]"
      ]
     },
     "metadata": {},
     "output_type": "display_data"
    }
   ],
   "source": [
    "import pandas as pd\n",
    "\n",
    "\n",
    "caminho_arquivo = 'C:/Users/moura/PAD_JOB/model/SVC-model/comentarios-traduzidos.csv'\n",
    "\n",
    "\n",
    "dados = pd.read_csv(caminho_arquivo)\n",
    "display(dados)"
   ]
  },
  {
   "cell_type": "code",
   "execution_count": 44,
   "metadata": {},
   "outputs": [
    {
     "name": "stderr",
     "output_type": "stream",
     "text": [
      "c:\\Users\\moura\\Anaconda3\\Lib\\site-packages\\sklearn\\base.py:347: InconsistentVersionWarning: Trying to unpickle estimator SVC from version 1.2.2 when using version 1.3.0. This might lead to breaking code or invalid results. Use at your own risk. For more info please refer to:\n",
      "https://scikit-learn.org/stable/model_persistence.html#security-maintainability-limitations\n",
      "  warnings.warn(\n"
     ]
    }
   ],
   "source": [
    "import pickle\n",
    "with open('C:/Users/moura/PAD_JOB/model/SVC-model/modelo_treinado.pkl', 'rb') as file:\n",
    "    loaded_model = pickle.load(file)\n"
   ]
  }
 ],
 "metadata": {
  "kernelspec": {
   "display_name": "Python 3",
   "language": "python",
   "name": "python3"
  },
  "language_info": {
   "codemirror_mode": {
    "name": "ipython",
    "version": 3
   },
   "file_extension": ".py",
   "mimetype": "text/x-python",
   "name": "python",
   "nbconvert_exporter": "python",
   "pygments_lexer": "ipython3",
   "version": "3.9.17"
  },
  "orig_nbformat": 4
 },
 "nbformat": 4,
 "nbformat_minor": 2
}
