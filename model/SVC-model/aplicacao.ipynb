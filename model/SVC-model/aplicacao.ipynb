{
 "cells": [
  {
   "cell_type": "code",
   "execution_count": 43,
   "metadata": {},
   "outputs": [
    {
     "data": {
      "text/html": [
       "<div>\n",
       "<style scoped>\n",
       "    .dataframe tbody tr th:only-of-type {\n",
       "        vertical-align: middle;\n",
       "    }\n",
       "\n",
       "    .dataframe tbody tr th {\n",
       "        vertical-align: top;\n",
       "    }\n",
       "\n",
       "    .dataframe thead th {\n",
       "        text-align: right;\n",
       "    }\n",
       "</style>\n",
       "<table border=\"1\" class=\"dataframe\">\n",
       "  <thead>\n",
       "    <tr style=\"text-align: right;\">\n",
       "      <th></th>\n",
       "      <th>texto</th>\n",
       "    </tr>\n",
       "  </thead>\n",
       "  <tbody>\n",
       "    <tr>\n",
       "      <th>2</th>\n",
       "      <td>Top demais</td>\n",
       "    </tr>\n",
       "    <tr>\n",
       "      <th>6</th>\n",
       "      <td>Minha experiência no bar cruzeiro foi incrível...</td>\n",
       "    </tr>\n",
       "    <tr>\n",
       "      <th>7</th>\n",
       "      <td>Minha experiência foi com o caldo. Uma delícia...</td>\n",
       "    </tr>\n",
       "    <tr>\n",
       "      <th>8</th>\n",
       "      <td>Ambiente aberto, passam bicicletas e pedestres...</td>\n",
       "    </tr>\n",
       "    <tr>\n",
       "      <th>9</th>\n",
       "      <td>O frango assado, o feijão tropeiro o melhor ai...</td>\n",
       "    </tr>\n",
       "  </tbody>\n",
       "</table>\n",
       "</div>"
      ],
      "text/plain": [
       "                                               texto\n",
       "2                                         Top demais\n",
       "6  Minha experiência no bar cruzeiro foi incrível...\n",
       "7  Minha experiência foi com o caldo. Uma delícia...\n",
       "8  Ambiente aberto, passam bicicletas e pedestres...\n",
       "9  O frango assado, o feijão tropeiro o melhor ai..."
      ]
     },
     "execution_count": 43,
     "metadata": {},
     "output_type": "execute_result"
    }
   ],
   "source": [
    "import pandas as pd\n",
    "\n",
    "\n",
    "caminho_arquivo = 'C:/Users/moura/PAD_JOB/model/AnalisesSentimento/dados.csv'\n",
    "\n",
    "\n",
    "dados = pd.read_csv(caminho_arquivo)\n",
    "\n",
    "\n",
    "\n",
    "def extrair_texto(review):\n",
    "    try:\n",
    "        review_dict = eval(review)  # Avaliando a string como dicionário\n",
    "        texto = review_dict.get('text', None)\n",
    "        estrelas = review_dict.get('stars', None)\n",
    "        \n",
    "        return pd.Series([texto])\n",
    "    except Exception as e:\n",
    "        return pd.Series([None, None])\n",
    "\n",
    "# Aplicando a função atualizada para extrair o texto e classificação\n",
    "dados_reviews = dados['reviews'].dropna().apply(extrair_texto)\n",
    "dados_reviews.columns = ['texto']\n",
    "\n",
    "# Removendo linhas onde o texto é None\n",
    "dados_reviews = dados_reviews[dados_reviews['texto'].notna()]\n",
    "\n",
    "\n",
    "dados_reviews.head()\n"
   ]
  },
  {
   "cell_type": "code",
   "execution_count": null,
   "metadata": {},
   "outputs": [],
   "source": [
    "dados_reviews.to_csv('comentarios.csv', index=False)\n"
   ]
  },
  {
   "cell_type": "code",
   "execution_count": 44,
   "metadata": {},
   "outputs": [
    {
     "name": "stderr",
     "output_type": "stream",
     "text": [
      "c:\\Users\\moura\\Anaconda3\\Lib\\site-packages\\sklearn\\base.py:347: InconsistentVersionWarning: Trying to unpickle estimator SVC from version 1.2.2 when using version 1.3.0. This might lead to breaking code or invalid results. Use at your own risk. For more info please refer to:\n",
      "https://scikit-learn.org/stable/model_persistence.html#security-maintainability-limitations\n",
      "  warnings.warn(\n"
     ]
    }
   ],
   "source": [
    "import pickle\n",
    "with open('C:/Users/moura/PAD_JOB/model/SVC-model/modelo_treinado.pkl', 'rb') as file:\n",
    "    loaded_model = pickle.load(file)\n"
   ]
  }
 ],
 "metadata": {
  "kernelspec": {
   "display_name": "Python 3",
   "language": "python",
   "name": "python3"
  },
  "language_info": {
   "codemirror_mode": {
    "name": "ipython",
    "version": 3
   },
   "file_extension": ".py",
   "mimetype": "text/x-python",
   "name": "python",
   "nbconvert_exporter": "python",
   "pygments_lexer": "ipython3",
   "version": "3.11.3"
  },
  "orig_nbformat": 4
 },
 "nbformat": 4,
 "nbformat_minor": 2
}
