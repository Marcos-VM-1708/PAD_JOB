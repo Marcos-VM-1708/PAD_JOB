{
 "cells": [
  {
   "cell_type": "code",
   "execution_count": null,
   "metadata": {},
   "outputs": [],
   "source": [
    "import pandas as pd\n",
    "\n",
    "df = pd.read_csv('C:/Users/moura/PAD_JOB/Ask/AnalisesSentimento/dados.csv')\n",
    "\n",
    "\n",
    "display(df)"
   ]
  },
  {
   "cell_type": "code",
   "execution_count": null,
   "metadata": {},
   "outputs": [],
   "source": [
    "import pandas as pd\n",
    "\n",
    "\n",
    "\n",
    "def extrair_texto(review):\n",
    "    try:\n",
    "        review_dict = eval(review)  # Avaliando a string como dicionário\n",
    "        texto = review_dict.get('text', None)\n",
    "        estrelas = review_dict.get('stars', None)\n",
    "\n",
    "        return pd.Series([texto])\n",
    "    except Exception as e:\n",
    "        return pd.Series([None, None])\n",
    "\n",
    "# Aplicando a função atualizada para extrair o texto e classificação\n",
    "dados_reviews = df['reviews'].dropna().apply(extrair_texto)\n",
    "dados_reviews.columns = ['texto']\n",
    "\n",
    "\n",
    "\n",
    "df['texto'] = dados_reviews['texto']\n",
    "\n",
    "# Removendo linhas onde o texto é None\n",
    "df = df[df['texto'].notna()]\n",
    "\n",
    "\n",
    "\n",
    "df.head()"
   ]
  },
  {
   "cell_type": "code",
   "execution_count": null,
   "metadata": {},
   "outputs": [],
   "source": [
    "import pandas as pd\n",
    "from textblob import TextBlob\n",
    "\n",
    "# Suponha que este é o seu DataFrame original\n",
    "#data = {'texto': ['Olá mundo', 'Como você está?', 'Estou bem']}\n",
    "#df = pd.DataFrame(data)\n",
    "\n",
    "# Função para traduzir texto\n",
    "def traduzir(texto):\n",
    "    try:\n",
    "        return str(TextBlob(texto).translate(from_lang='pt_br', to='en'))\n",
    "        #print(texto)\n",
    "    except:\n",
    "        return texto\n",
    "\n",
    "\n",
    "# Aplicar a função de tradução para a coluna 'texto'\n",
    "df['texto_traduzido'] = df['texto'].apply(traduzir)\n",
    "\n",
    "# Agora 'df' tem uma nova coluna 'texto_traduzido' com o texto traduzido\n",
    "print(df)\n",
    "\n",
    "# Para armazenar a coluna traduzida em outra tabela (novo DataFrame)\n",
    "novo_df = df['texto_traduzido'].to_frame()\n",
    "print(novo_df)\n"
   ]
  }
 ],
 "metadata": {
  "language_info": {
   "name": "python"
  },
  "orig_nbformat": 4
 },
 "nbformat": 4,
 "nbformat_minor": 2
}
